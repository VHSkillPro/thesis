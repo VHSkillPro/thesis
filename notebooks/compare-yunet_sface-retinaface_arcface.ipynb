{
 "cells": [
  {
   "cell_type": "code",
   "execution_count": 2,
   "metadata": {},
   "outputs": [
    {
     "name": "stdout",
     "output_type": "stream",
     "text": [
      "/home/hazzu/Code/thesis\n"
     ]
    }
   ],
   "source": [
    "%reload_ext autoreload\n",
    "%autoreload 2\n",
    "%cd ../\n",
    "import os\n",
    "os.environ[\"CUDA_VISIBLE_DEVICES\"] = \"-1\""
   ]
  },
  {
   "cell_type": "code",
   "execution_count": 2,
   "metadata": {},
   "outputs": [],
   "source": [
    "import cv2\n",
    "import numpy as np\n",
    "\n",
    "\n",
    "def visualize_result(\n",
    "    image1: cv2.typing.MatLike,\n",
    "    face1: list[float],\n",
    "    image2: cv2.typing.MatLike,\n",
    "    face2: list[float],\n",
    "    similarity: float,\n",
    "    is_match: bool,\n",
    "):\n",
    "    drawed_image1 = image1.copy()\n",
    "    drawed_image2 = image2.copy()\n",
    "\n",
    "    x1, y1, w1, h1 = map(int, face1[:4])\n",
    "    x2, y2, w2, h2 = map(int, face2[:4])\n",
    "\n",
    "    color = (0, 0, 255)\n",
    "    if is_match:\n",
    "        color = (0, 255, 0)\n",
    "\n",
    "    drawed_image1 = cv2.rectangle(drawed_image1, (x1, y1), (x1 + w1, y1 + h1), color, 2)\n",
    "    drawed_image2 = cv2.rectangle(drawed_image2, (x2, y2), (x2 + w2, y2 + h2), color, 2)\n",
    "    drawed_image1 = cv2.putText(\n",
    "        drawed_image1,\n",
    "        f\"Similarity: {similarity}\",\n",
    "        (x1, y1 - 10),\n",
    "        cv2.FONT_HERSHEY_SIMPLEX,\n",
    "        0.9,\n",
    "        color,\n",
    "        2,\n",
    "    )\n",
    "\n",
    "    h1, w1 = drawed_image1.shape[:2]\n",
    "    h2, w2 = drawed_image2.shape[:2]\n",
    "    vis = np.zeros((max(h1, h2), w1 + w2, 3), np.uint8)\n",
    "    vis[:h1, :w1, :3] = drawed_image1\n",
    "    vis[:h2, w1 : w1 + w2, :3] = drawed_image2\n",
    "\n",
    "    return vis"
   ]
  },
  {
   "cell_type": "markdown",
   "metadata": {},
   "source": [
    "# 1. YuNet + SFace\n"
   ]
  },
  {
   "cell_type": "code",
   "execution_count": null,
   "metadata": {},
   "outputs": [
    {
     "name": "stderr",
     "output_type": "stream",
     "text": [
      "100%|██████████| 314/314 [00:47<00:00,  6.63it/s]\n"
     ]
    }
   ],
   "source": [
    "import os, csv, timeit\n",
    "from tqdm import tqdm\n",
    "from lib.sface import SFace\n",
    "from lib.FaceDetector import YuNetDetector\n",
    "\n",
    "yunet = YuNetDetector()\n",
    "embedder = SFace(modelPath=\"weights/face_recognition_sface_2021dec.onnx\")\n",
    "\n",
    "\n",
    "def face_verify(img_path1: str, img_path2: str):\n",
    "    start = timeit.default_timer()\n",
    "\n",
    "    card_image = cv2.imread(img_path1)\n",
    "    selfie_image = cv2.imread(img_path2)\n",
    "\n",
    "    face_in_card, scale = yunet.detect_single_multiscale(card_image)\n",
    "    if face_in_card is None:\n",
    "        print(f\"Cannot detect face in card {img_path1}\")\n",
    "        return None\n",
    "    scaled_card_image = cv2.resize(\n",
    "        card_image, (int(scale * card_image.shape[1]), int(scale * card_image.shape[0]))\n",
    "    )\n",
    "\n",
    "    face_in_selfie, scale2 = yunet.detect_single_multiscale(selfie_image)\n",
    "    if face_in_selfie is None:\n",
    "        print(f\"Cannot detect face in selfie {img_path2}\")\n",
    "        return None\n",
    "    scaled_selfie_image = cv2.resize(\n",
    "        selfie_image,\n",
    "        (int(scale2 * selfie_image.shape[1]), int(scale2 * selfie_image.shape[0])),\n",
    "    )\n",
    "\n",
    "    similarity, is_match = embedder.match(\n",
    "        scaled_card_image, face_in_card, scaled_selfie_image, face_in_selfie\n",
    "    )\n",
    "\n",
    "    stop = timeit.default_timer()\n",
    "\n",
    "    return {\n",
    "        \"verified\": bool(is_match),\n",
    "        \"similarity\": similarity,\n",
    "        \"facial_areas\": {\n",
    "            \"img1\": {\n",
    "                \"x\": int(face_in_card[0] / scale),\n",
    "                \"y\": int(face_in_card[1] / scale),\n",
    "                \"w\": int(face_in_card[2] / scale),\n",
    "                \"h\": int(face_in_card[3] / scale),\n",
    "            },\n",
    "            \"img2\": {\n",
    "                \"x\": int(face_in_selfie[0] / scale2),\n",
    "                \"y\": int(face_in_selfie[1] / scale2),\n",
    "                \"w\": int(face_in_selfie[2] / scale2),\n",
    "                \"h\": int(face_in_selfie[3] / scale2),\n",
    "            },\n",
    "        },\n",
    "        \"time\": stop - start,\n",
    "    }\n",
    "\n",
    "\n",
    "CARDS_DIR = \"datasets/cards\"\n",
    "SELFIES_DIR = \"datasets/selfies_20241030\"\n",
    "\n",
    "cards_name = os.listdir(CARDS_DIR)\n",
    "selfies_name = os.listdir(SELFIES_DIR)\n",
    "\n",
    "yunet_name = []\n",
    "yunet_similarity = []\n",
    "yunet_is_match = []\n",
    "yunet_time = []\n",
    "\n",
    "for card_name in tqdm(cards_name):\n",
    "    card_path = os.path.join(CARDS_DIR, card_name)\n",
    "    student_id = card_name.split(\"_\")[0]\n",
    "    card_image = cv2.imread(card_path)\n",
    "\n",
    "    # Find selfies of student\n",
    "    selfies_of_student = list(filter(lambda x: student_id in x, selfies_name))\n",
    "    if len(selfies_of_student) == 0:\n",
    "        continue\n",
    "    selfies_of_student = selfies_of_student[0]\n",
    "    selfies_of_student_path = os.path.join(SELFIES_DIR, selfies_of_student)\n",
    "\n",
    "    for selfie_name in os.listdir(selfies_of_student_path):\n",
    "        selfie_path = os.path.join(selfies_of_student_path, selfie_name)\n",
    "        selfie_image = cv2.imread(selfie_path)\n",
    "\n",
    "        result = face_verify(card_path, selfie_path)\n",
    "        similarity = result[\"similarity\"]\n",
    "        is_match = result[\"verified\"]\n",
    "        time = result[\"time\"]\n",
    "\n",
    "        face_in_card = result[\"facial_areas\"][\"img1\"]\n",
    "        face_in_selfie = result[\"facial_areas\"][\"img2\"]\n",
    "        face_in_card = [\n",
    "            face_in_card[\"x\"],\n",
    "            face_in_card[\"y\"],\n",
    "            face_in_card[\"w\"],\n",
    "            face_in_card[\"h\"],\n",
    "        ]\n",
    "        face_in_selfie = [\n",
    "            face_in_selfie[\"x\"],\n",
    "            face_in_selfie[\"y\"],\n",
    "            face_in_selfie[\"w\"],\n",
    "            face_in_selfie[\"h\"],\n",
    "        ]\n",
    "\n",
    "        vis = visualize_result(\n",
    "            card_image,\n",
    "            face_in_card,\n",
    "            selfie_image,\n",
    "            face_in_selfie,\n",
    "            similarity,\n",
    "            is_match,\n",
    "        )\n",
    "        os.makedirs(\n",
    "            f\"results/face-verification/yunet-sface/{student_id}\", exist_ok=True\n",
    "        )\n",
    "        cv2.imwrite(\n",
    "            f\"results/face-verification/yunet-sface/{student_id}/{selfie_name}\", vis\n",
    "        )\n",
    "\n",
    "        yunet_name.append(f\"{student_id}_{selfie_name}\")\n",
    "        yunet_similarity.append(similarity)\n",
    "        yunet_is_match.append(is_match)\n",
    "        yunet_time.append(time)\n",
    "\n",
    "fields = [\"name\", \"similarity\", \"is_match\", \"time\"]\n",
    "rows = zip(yunet_name, yunet_similarity, yunet_is_match, yunet_time)\n",
    "filepath = \"results/face-verification/yunet-sface/result.csv\"\n",
    "with open(filepath, \"w\") as f:\n",
    "    csvwriter = csv.writer(f)\n",
    "    csvwriter.writerow(fields)\n",
    "    csvwriter.writerows(rows)"
   ]
  },
  {
   "cell_type": "markdown",
   "metadata": {},
   "source": [
    "# 2. RetinaFace + ArcFace\n"
   ]
  },
  {
   "cell_type": "code",
   "execution_count": null,
   "metadata": {},
   "outputs": [
    {
     "name": "stderr",
     "output_type": "stream",
     "text": [
      "2025-01-30 11:03:09.218589: E external/local_xla/xla/stream_executor/cuda/cuda_fft.cc:477] Unable to register cuFFT factory: Attempting to register factory for plugin cuFFT when one has already been registered\n",
      "WARNING: All log messages before absl::InitializeLog() is called are written to STDERR\n",
      "E0000 00:00:1738209789.229001   21957 cuda_dnn.cc:8310] Unable to register cuDNN factory: Attempting to register factory for plugin cuDNN when one has already been registered\n",
      "E0000 00:00:1738209789.232472   21957 cuda_blas.cc:1418] Unable to register cuBLAS factory: Attempting to register factory for plugin cuBLAS when one has already been registered\n",
      "2025-01-30 11:03:09.245973: I tensorflow/core/platform/cpu_feature_guard.cc:210] This TensorFlow binary is optimized to use available CPU instructions in performance-critical operations.\n",
      "To enable the following instructions: AVX2 FMA, in other operations, rebuild TensorFlow with the appropriate compiler flags.\n",
      "  0%|          | 0/314 [00:00<?, ?it/s]2025-01-30 11:03:11.234150: E external/local_xla/xla/stream_executor/cuda/cuda_driver.cc:152] failed call to cuInit: INTERNAL: CUDA error: Failed call to cuInit: CUDA_ERROR_NO_DEVICE: no CUDA-capable device is detected\n",
      "100%|██████████| 314/314 [07:37<00:00,  1.46s/it]\n"
     ]
    }
   ],
   "source": [
    "import os, csv, cv2\n",
    "from tqdm import tqdm\n",
    "from deepface import DeepFace\n",
    "\n",
    "CARDS_DIR = \"datasets/cards\"\n",
    "SELFIES_DIR = \"datasets/selfies_20241030\"\n",
    "\n",
    "cards_name = os.listdir(CARDS_DIR)\n",
    "selfies_name = os.listdir(SELFIES_DIR)\n",
    "\n",
    "retinaface_name = []\n",
    "retinaface_similarity = []\n",
    "retinaface_is_match = []\n",
    "retinaface_time = []\n",
    "\n",
    "for card_name in tqdm(cards_name):\n",
    "    card_path = os.path.join(CARDS_DIR, card_name)\n",
    "    student_id = card_name.split(\"_\")[0]\n",
    "    card_image = cv2.imread(card_path)\n",
    "\n",
    "    # Find selfies of student\n",
    "    selfies_of_student = list(filter(lambda x: student_id in x, selfies_name))\n",
    "    if len(selfies_of_student) == 0:\n",
    "        continue\n",
    "    selfies_of_student = selfies_of_student[0]\n",
    "    selfies_of_student_path = os.path.join(SELFIES_DIR, selfies_of_student)\n",
    "\n",
    "    for selfie_name in os.listdir(selfies_of_student_path):\n",
    "        selfie_path = os.path.join(selfies_of_student_path, selfie_name)\n",
    "        selfie_image = cv2.imread(selfie_path)\n",
    "\n",
    "        result = DeepFace.verify(\n",
    "            img1_path=card_path,\n",
    "            img2_path=selfie_path,\n",
    "            model_name=\"ArcFace\",\n",
    "            detector_backend=\"retinaface\",\n",
    "            silent=True,\n",
    "        )\n",
    "\n",
    "        distance = result[\"distance\"]\n",
    "        similarity = 1 - distance\n",
    "        is_match = result[\"verified\"]\n",
    "        time = result[\"time\"]\n",
    "\n",
    "        face_in_card = result[\"facial_areas\"][\"img1\"]\n",
    "        face_in_selfie = result[\"facial_areas\"][\"img2\"]\n",
    "        face_in_card = [\n",
    "            face_in_card[\"x\"],\n",
    "            face_in_card[\"y\"],\n",
    "            face_in_card[\"w\"],\n",
    "            face_in_card[\"h\"],\n",
    "        ]\n",
    "        face_in_selfie = [\n",
    "            face_in_selfie[\"x\"],\n",
    "            face_in_selfie[\"y\"],\n",
    "            face_in_selfie[\"w\"],\n",
    "            face_in_selfie[\"h\"],\n",
    "        ]\n",
    "\n",
    "        vis = visualize_result(\n",
    "            card_image,\n",
    "            face_in_card,\n",
    "            selfie_image,\n",
    "            face_in_selfie,\n",
    "            similarity,\n",
    "            is_match,\n",
    "        )\n",
    "        os.makedirs(\n",
    "            f\"results/face-verification/retinaface-arcface/{student_id}\", exist_ok=True\n",
    "        )\n",
    "        cv2.imwrite(\n",
    "            f\"results/face-verification/retinaface-arcface/{student_id}/{selfie_name}\",\n",
    "            vis,\n",
    "        )\n",
    "\n",
    "        retinaface_name.append(f\"{student_id}_{selfie_name}\")\n",
    "        retinaface_similarity.append(similarity)\n",
    "        retinaface_is_match.append(is_match)\n",
    "        retinaface_time.append(time)\n",
    "\n",
    "fields = [\"name\", \"similarity\", \"is_match\", \"time\"]\n",
    "rows = zip(retinaface_name, retinaface_similarity, retinaface_is_match, retinaface_time)\n",
    "filepath = \"results/face-verification/retinaface-arcface/result.csv\"\n",
    "with open(filepath, \"w\") as f:\n",
    "    csvwriter = csv.writer(f)\n",
    "    csvwriter.writerow(fields)\n",
    "    csvwriter.writerows(rows)"
   ]
  },
  {
   "cell_type": "markdown",
   "metadata": {},
   "source": [
    "# 3. Comparison\n"
   ]
  },
  {
   "cell_type": "code",
   "execution_count": 3,
   "metadata": {},
   "outputs": [
    {
     "name": "stdout",
     "output_type": "stream",
     "text": [
      "<class 'pandas.core.frame.DataFrame'>\n",
      "RangeIndex: 99 entries, 0 to 98\n",
      "Data columns (total 4 columns):\n",
      " #   Column      Non-Null Count  Dtype  \n",
      "---  ------      --------------  -----  \n",
      " 0   name        99 non-null     object \n",
      " 1   similarity  99 non-null     float64\n",
      " 2   is_match    99 non-null     bool   \n",
      " 3   time        99 non-null     float64\n",
      "dtypes: bool(1), float64(2), object(1)\n",
      "memory usage: 2.5+ KB\n",
      "\n",
      "<class 'pandas.core.frame.DataFrame'>\n",
      "RangeIndex: 99 entries, 0 to 98\n",
      "Data columns (total 4 columns):\n",
      " #   Column      Non-Null Count  Dtype  \n",
      "---  ------      --------------  -----  \n",
      " 0   name        99 non-null     object \n",
      " 1   similarity  99 non-null     float64\n",
      " 2   is_match    99 non-null     bool   \n",
      " 3   time        99 non-null     float64\n",
      "dtypes: bool(1), float64(2), object(1)\n",
      "memory usage: 2.5+ KB\n"
     ]
    }
   ],
   "source": [
    "import pandas as pd\n",
    "\n",
    "yunet_sface = pd.read_csv(\"results/face-verification/yunet-sface/result.csv\")\n",
    "retinaface_arcface = pd.read_csv(\n",
    "    \"results/face-verification/retinaface-arcface/result.csv\"\n",
    ")\n",
    "\n",
    "yunet_sface.info()\n",
    "print()\n",
    "retinaface_arcface.info()"
   ]
  },
  {
   "cell_type": "markdown",
   "metadata": {},
   "source": [
    "## 3.1. Accuracy\n"
   ]
  },
  {
   "cell_type": "code",
   "execution_count": 54,
   "metadata": {},
   "outputs": [
    {
     "data": {
      "image/png": "[encoded data removed]",
      "text/plain": [
       "<Figure size 200x200 with 1 Axes>"
      ]
     },
     "metadata": {},
     "output_type": "display_data"
    }
   ],
   "source": [
    "import matplotlib.pyplot as plt\n",
    "\n",
    "yunet_sface_accuracy = (\n",
    "    yunet_sface[yunet_sface[\"is_match\"] == True].count()[0] / yunet_sface.count()[0]\n",
    ")\n",
    "retinaface_arcface_accuracy = (\n",
    "    retinaface_arcface[retinaface_arcface[\"is_match\"] == True].count()[0]\n",
    "    / retinaface_arcface.count()[0]\n",
    ")\n",
    "\n",
    "fig, ax = plt.subplots()\n",
    "container = ax.barh(\n",
    "    [\"RetinaFace + ArcFace\", \"YuNet + SFace\"],\n",
    "    [retinaface_arcface_accuracy, yunet_sface_accuracy],\n",
    "    color=[\"#1f77b4\", \"#ff7f0e\"],\n",
    ")\n",
    "ax.set_xlim(0, 1)\n",
    "ax.set_xlabel(\"Accuracy\")\n",
    "ax.bar_label(container, fmt=\"%.4f\", padding=-50)\n",
    "\n",
    "plt.savefig(\"results/face-verification/accuracy.png\", bbox_inches=\"tight\")"
   ]
  },
  {
   "cell_type": "markdown",
   "metadata": {},
   "source": [
    "## 3.2. Similarity\n"
   ]
  },
  {
   "cell_type": "code",
   "execution_count": 115,
   "metadata": {},
   "outputs": [
    {
     "data": {
      "image/png": "[encoded data removed]",
      "text/plain": [
       "<Figure size 200x200 with 1 Axes>"
      ]
     },
     "metadata": {},
     "output_type": "display_data"
    }
   ],
   "source": [
    "import matplotlib.pyplot as plt\n",
    "\n",
    "yunet_sface_similarity = yunet_sface[\"similarity\"]\n",
    "retinaface_arcface_similarity = retinaface_arcface[\"similarity\"]\n",
    "\n",
    "fig, ax = plt.subplots()\n",
    "bplot = ax.boxplot(\n",
    "    [retinaface_arcface_similarity, yunet_sface_similarity],\n",
    "    positions=[1, 3],\n",
    "    widths=1.5,\n",
    "    showfliers=True,\n",
    "    patch_artist=True,\n",
    "    showmeans=True,\n",
    "    tick_labels=[\"RetinaFace + ArcFace\", \"YuNet + SFace\"],\n",
    "    orientation=\"horizontal\",\n",
    ")\n",
    "\n",
    "bplot[\"boxes\"][0].set_facecolor(\"#1f77b4\")\n",
    "bplot[\"boxes\"][1].set_facecolor(\"#ff7f0e\")\n",
    "ax.set_xlim(0, 1)\n",
    "ax.set_xlabel(\"Cosine Similarity\")\n",
    "\n",
    "plt.savefig(\"results/face-verification/similarity.png\", bbox_inches=\"tight\")"
   ]
  },
  {
   "cell_type": "markdown",
   "metadata": {},
   "source": [
    "## 3.3. Speed\n"
   ]
  },
  {
   "cell_type": "code",
   "execution_count": 11,
   "metadata": {},
   "outputs": [
    {
     "data": {
      "image/png": "[encoded data removed]",
      "text/plain": [
       "<Figure size 1000x500 with 2 Axes>"
      ]
     },
     "metadata": {},
     "output_type": "display_data"
    }
   ],
   "source": [
    "import numpy as np\n",
    "import matplotlib.pyplot as plt\n",
    "\n",
    "yunet_sface_time = yunet_sface[\"time\"]\n",
    "retinaface_arcface_time = retinaface_arcface[\"time\"]\n",
    "\n",
    "bin_width = 1\n",
    "bins = np.arange(\n",
    "    np.min([yunet_sface_time, yunet_sface_time]),\n",
    "    np.max([retinaface_arcface_time, retinaface_arcface_time]) + bin_width,\n",
    "    bin_width,\n",
    ")\n",
    "\n",
    "fig, axs = plt.subplots(1, 2, sharey=True, tight_layout=True)\n",
    "fig.set_size_inches(10, 5)\n",
    "axs[0].hist(\n",
    "    yunet_sface_time,\n",
    "    bins=bins,\n",
    "    label=\"YuNet + SFace\",\n",
    "    color=\"#ff7f0e\",\n",
    ")\n",
    "axs[1].hist(\n",
    "    retinaface_arcface_time,\n",
    "    bins=bins,\n",
    "    label=\"RetinaFace + ArcFace\",\n",
    "    color=\"#1f77b4\",\n",
    ")\n",
    "axs[0].set_ylabel(\"Frequency\")\n",
    "axs[0].set_xlabel(\"Execute time of YuNet + SFace (s)\")\n",
    "axs[1].set_xlabel(\"Execute time of RetinaFace + ArcFace (s)\")\n",
    "\n",
    "plt.savefig(\"results/face-verification/execute-time.png\", bbox_inches=\"tight\")"
   ]
  },
  {
   "cell_type": "code",
   "execution_count": 17,
   "metadata": {},
   "outputs": [
    {
     "name": "stdout",
     "output_type": "stream",
     "text": [
      "Mean execute time of YuNet + SFace: 0.3716s\n",
      "Mean execute time of RetinaFace + ArcFace: 4.4805s\n"
     ]
    }
   ],
   "source": [
    "print(f\"Mean execute time of YuNet + SFace: {yunet_sface_time.mean():.4f}s\")\n",
    "print(\n",
    "    f\"Mean execute time of RetinaFace + ArcFace: {retinaface_arcface_time.mean():.4f}s\"\n",
    ")"
   ]
  },
  {
   "cell_type": "code",
   "execution_count": 10,
   "metadata": {},
   "outputs": [
    {
     "name": "stdout",
     "output_type": "stream",
     "text": [
      "24T1020247_vlcsnap-00030.png False True\n",
      "24T1020247_vlcsnap-00032.png False True\n",
      "24T1020052_vlcsnap-00005.png False True\n",
      "24T1020052_vlcsnap-00006.png 0.2652612092262245 0.262233059\n",
      "24T1020052_vlcsnap-00004.png False True\n",
      "24T1020509_vlcsnap-00091.png False True\n",
      "24T1020509_vlcsnap-00092.png False True\n",
      "24T1020271_vlcsnap-00032.png True False\n",
      "24T1020453_vlcsnap-00060.png False True\n",
      "24T1020160_vlcsnap-00013.png False True\n",
      "24T1020160_vlcsnap-00014.png False True\n",
      "24T1020520_vlcsnap-00008.png True False\n",
      "24T1020328_vlcsnap-00043.png 0.3252818952614689 0.231573035\n",
      "24T1020328_vlcsnap-00042.png False True\n",
      "24T1020328_vlcsnap-00041.png False True\n",
      "24T1020275_vlcsnap-00035.png 0.1219828110856724 0.169203813\n",
      "24T1020275_vlcsnap-00034.png False True\n",
      "24T1020275_vlcsnap-00036.png 0.2035929127814597 0.302167115\n",
      "24T1020275_vlcsnap-00037.png False True\n",
      "24T1020513_vlcsnap-00096.png True False\n",
      "24T1020239_vlcsnap-00029.png False True\n",
      "24T1020118_vlcsnap-00009.png False True\n",
      "24T1020585_vlcsnap-00020.png False True\n",
      "24T1020442_vlcsnap-00063.png 0.1436180591626907 0.319050982\n"
     ]
    }
   ],
   "source": [
    "for i in range(yunet_sface[\"name\"].size):\n",
    "    if yunet_sface[\"is_match\"][i] != retinaface_arcface[\"is_match\"][i]:\n",
    "        print(\n",
    "            yunet_sface[\"name\"][i],\n",
    "            yunet_sface[\"is_match\"][i],\n",
    "            retinaface_arcface[\"is_match\"][i],\n",
    "        )\n",
    "    elif yunet_sface[\"is_match\"][i] == False:\n",
    "        print(\n",
    "            yunet_sface[\"name\"][i],\n",
    "            yunet_sface[\"similarity\"][i],\n",
    "            retinaface_arcface[\"similarity\"][i],\n",
    "        )"
   ]
  }
 ],
 "metadata": {
  "kernelspec": {
   "display_name": "Python 3",
   "language": "python",
   "name": "python3"
  },
  "language_info": {
   "codemirror_mode": {
    "name": "ipython",
    "version": 3
   },
   "file_extension": ".py",
   "mimetype": "text/x-python",
   "name": "python",
   "nbconvert_exporter": "python",
   "pygments_lexer": "ipython3",
   "version": "3.12.8"
  }
 },
 "nbformat": 4,
 "nbformat_minor": 2
}
