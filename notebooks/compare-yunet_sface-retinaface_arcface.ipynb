{
 "cells": [
  {
   "cell_type": "code",
   "execution_count": 1,
   "metadata": {},
   "outputs": [
    {
     "name": "stdout",
     "output_type": "stream",
     "text": [
      "/home/hazzu/Code/thesis\n"
     ]
    }
   ],
   "source": [
    "%reload_ext autoreload\n",
    "%autoreload 2\n",
    "%cd ../"
   ]
  },
  {
   "cell_type": "code",
   "execution_count": 2,
   "metadata": {},
   "outputs": [],
   "source": [
    "import cv2\n",
    "import numpy as np\n",
    "\n",
    "def visualize_result(image1: cv2.typing.MatLike, face1: list[float], image2: cv2.typing.MatLike, face2: list[float], distance: float, is_match: bool):\n",
    "    drawed_image1 = image1.copy()\n",
    "    drawed_image2 = image2.copy()\n",
    "    \n",
    "    x1, y1, w1, h1 = map(int, face1[:4])\n",
    "    x2, y2, w2, h2 = map(int, face2[:4])\n",
    "    \n",
    "    color = (0, 0, 255)\n",
    "    if is_match:\n",
    "        color = (0, 255, 0)\n",
    "    \n",
    "    drawed_image1 = cv2.rectangle(drawed_image1, (x1, y1), (x1 + w1, y1 + h1), color, 2)\n",
    "    drawed_image2 = cv2.rectangle(drawed_image2, (x2, y2), (x2 + w2, y2 + h2), color, 2)\n",
    "    drawed_image1 = cv2.putText(drawed_image1, f\"Distance: {distance}\", (x1, y1 - 10), cv2.FONT_HERSHEY_SIMPLEX, 0.9, color, 2)\n",
    "    \n",
    "    h1, w1 = drawed_image1.shape[:2]\n",
    "    h2, w2 = drawed_image2.shape[:2]\n",
    "    vis = np.zeros((max(h1, h2), w1 + w2, 3), np.uint8)\n",
    "    vis[:h1, :w1, :3] = drawed_image1\n",
    "    vis[:h2, w1 : w1 + w2, :3] = drawed_image2\n",
    "    \n",
    "    return vis"
   ]
  },
  {
   "cell_type": "markdown",
   "metadata": {},
   "source": [
    "# 1. YuNet + SFace\n"
   ]
  },
  {
   "cell_type": "code",
   "execution_count": 11,
   "metadata": {},
   "outputs": [
    {
     "name": "stderr",
     "output_type": "stream",
     "text": [
      "100%|██████████| 314/314 [00:26<00:00, 11.77it/s]\n"
     ]
    }
   ],
   "source": [
    "import os, csv\n",
    "from tqdm import tqdm\n",
    "from lib.FaceDetector import YuNetDetector\n",
    "from lib.sface import SFace\n",
    "\n",
    "\n",
    "CARDS_DIR = \"datasets/cards\"\n",
    "SELFIES_DIR = \"datasets/selfies_20241030\"\n",
    "\n",
    "cards_name = os.listdir(CARDS_DIR)\n",
    "selfies_name = os.listdir(SELFIES_DIR)\n",
    "\n",
    "yunet = YuNetDetector()\n",
    "embedder = SFace(modelPath=\"weights/face_recognition_sface_2021dec.onnx\")\n",
    "\n",
    "yunet_name = []\n",
    "yunet_distance = []\n",
    "yunet_is_match = []\n",
    "\n",
    "for card_name in tqdm(cards_name):\n",
    "    card_path = os.path.join(CARDS_DIR, card_name)\n",
    "    student_id = card_name.split(\"_\")[0]\n",
    "    \n",
    "    # Find selfies of student\n",
    "    selfies_of_student = list(filter(lambda x: student_id in x, selfies_name))\n",
    "    if len(selfies_of_student) == 0:\n",
    "        continue\n",
    "    selfies_of_student = selfies_of_student[0]\n",
    "    selfies_of_student_path = os.path.join(SELFIES_DIR, selfies_of_student)\n",
    "    \n",
    "    # Detect face in card\n",
    "    card_image = cv2.imread(card_path)\n",
    "    face_in_card, scale = yunet.detect_single_multiscale(card_image)\n",
    "    if face_in_card is None:\n",
    "        print(f\"Cannot detect face in card {card_name}\")\n",
    "        continue\n",
    "    scaled_card_image = cv2.resize(\n",
    "        card_image, (int(scale * card_image.shape[1]), int(scale * card_image.shape[0]))\n",
    "    )\n",
    "    \n",
    "    for selfie_name in os.listdir(selfies_of_student_path):\n",
    "        selfie_image = cv2.imread(os.path.join(selfies_of_student_path, selfie_name))\n",
    "\n",
    "        # Detect face in selfie\n",
    "        face_in_selfie, scale2 = yunet.detect_single_multiscale(selfie_image)\n",
    "        if face_in_selfie is None:\n",
    "            print(f\"Cannot detect face in selfie {os.path.join(selfies_of_student_path, selfie_name)}\")\n",
    "            continue\n",
    "        scaled_selfie_image = cv2.resize(\n",
    "            selfie_image,\n",
    "            (int(scale2 * selfie_image.shape[1]), int(scale2 * selfie_image.shape[0])),\n",
    "        )\n",
    "        \n",
    "        distance, is_match = embedder.match(\n",
    "            scaled_card_image, face_in_card, scaled_selfie_image, face_in_selfie\n",
    "        )\n",
    "        \n",
    "        vis = visualize_result(scaled_card_image, face_in_card, scaled_selfie_image, face_in_selfie, distance, is_match)\n",
    "        os.makedirs(f\"results/yunet-sface/{student_id}\", exist_ok=True)\n",
    "        cv2.imwrite(f\"results/yunet-sface/{student_id}/{selfie_name}\", vis)\n",
    "        \n",
    "        yunet_name.append(f\"{student_id}_{selfie_name}\")\n",
    "        yunet_distance.append(distance)\n",
    "        yunet_is_match.append(is_match)\n",
    "        \n",
    "fields = [\"name\", \"distance\", \"is_match\"]\n",
    "rows = zip(yunet_name, yunet_distance, yunet_is_match)\n",
    "filepath = \"results/yunet-sface/result.csv\"\n",
    "with open(filepath, \"w\") as f:\n",
    "    csvwriter = csv.writer(f)\n",
    "    csvwriter.writerow(fields)\n",
    "    csvwriter.writerows(rows)"
   ]
  }
 ],
 "metadata": {
  "kernelspec": {
   "display_name": "Python 3",
   "language": "python",
   "name": "python3"
  },
  "language_info": {
   "codemirror_mode": {
    "name": "ipython",
    "version": 3
   },
   "file_extension": ".py",
   "mimetype": "text/x-python",
   "name": "python",
   "nbconvert_exporter": "python",
   "pygments_lexer": "ipython3",
   "version": "3.12.8"
  }
 },
 "nbformat": 4,
 "nbformat_minor": 2
}
